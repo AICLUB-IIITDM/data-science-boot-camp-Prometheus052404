{
  "nbformat": 4,
  "nbformat_minor": 0,
  "metadata": {
    "colab": {
      "provenance": []
    },
    "kernelspec": {
      "name": "python3",
      "display_name": "Python 3"
    },
    "language_info": {
      "name": "python"
    }
  },
  "cells": [
    {
      "cell_type": "markdown",
      "source": [
        "**Question**-1 : Create a numpy array of **first ten whole numbers** and extract all odd numbers from array"
      ],
      "metadata": {
        "id": "1l1FIrZ1fplH"
      }
    },
    {
      "cell_type": "code",
      "source": [
        "def create():\n",
        "  #implement logic here\n",
        "  pass"
      ],
      "metadata": {
        "id": "cSkauxuuiT3W"
      },
      "execution_count": null,
      "outputs": []
    },
    {
      "cell_type": "markdown",
      "source": [
        "**Question-2** : Create a numpy array of **first ten whole numbers** and Convert a 1D array to a 2D array with 2 rows"
      ],
      "metadata": {
        "id": "ZPWNycM4gdqQ"
      }
    },
    {
      "cell_type": "code",
      "source": [
        "def convert():\n",
        "  #implement logic here\n",
        "  pass"
      ],
      "metadata": {
        "id": "MP77wPjFiUTf"
      },
      "execution_count": null,
      "outputs": []
    },
    {
      "cell_type": "markdown",
      "source": [
        "**Question-3** : Get the common items between a and b\n",
        "\n",
        "a = [1,2,3,2,3,4,3,4,5,6]\n",
        "\n",
        "b = [7,2,10,2,7,4,9,4,9,8]"
      ],
      "metadata": {
        "id": "F1NYQbuTh4Oo"
      }
    },
    {
      "cell_type": "code",
      "source": [
        "def common(a,b):\n",
        "  #implement logic here\n",
        "  pass"
      ],
      "metadata": {
        "id": "FquDLn-2iTQ-"
      },
      "execution_count": null,
      "outputs": []
    },
    {
      "cell_type": "markdown",
      "source": [
        " **Question-4** : Get the positions where elements of a and b match\n",
        "\n",
        " a = [1,2,3,2,3,4,3,4,5,6]\n",
        "\n",
        "b = [7,2,10,2,7,4,9,4,9,8]"
      ],
      "metadata": {
        "id": "6RmDzIE4iU9F"
      }
    },
    {
      "cell_type": "code",
      "execution_count": null,
      "metadata": {
        "id": "A6ksJvwXfccn"
      },
      "outputs": [],
      "source": [
        "def match(a,b):\n",
        "  #implement logic here\n",
        "  pass"
      ]
    },
    {
      "cell_type": "markdown",
      "source": [
        "**Question-5**: Get all items between 5 and 10 from a.\n",
        "\n",
        "a = [2, 6, 1, 9, 10, 3, 27]"
      ],
      "metadata": {
        "id": "IuvYU0GSi2dV"
      }
    },
    {
      "cell_type": "code",
      "source": [
        "def range(a):\n",
        "  #implement logic here\n",
        "  pass"
      ],
      "metadata": {
        "id": "0jC0myfEjFLv"
      },
      "execution_count": null,
      "outputs": []
    },
    {
      "cell_type": "markdown",
      "source": [
        "**Question-6** : Swap columns 1 and 2 in the array\n",
        "\n",
        "arr = [[0 1 2]\n",
        "      [3 4 5]\n",
        "      [6 7 8]]"
      ],
      "metadata": {
        "id": "WebNXJ7NjF3t"
      }
    },
    {
      "cell_type": "code",
      "source": [
        "def swap(a):\n",
        "  #implement logic here\n",
        "  pass"
      ],
      "metadata": {
        "id": "18fkhEzsj6sf"
      },
      "execution_count": null,
      "outputs": []
    },
    {
      "cell_type": "markdown",
      "source": [
        "**Question-7**  : Reverse the rows of a 2D array arr.\n",
        "\n",
        "arr = [[0 1 2]\n",
        "      [3 4 5]\n",
        "      [6 7 8]]"
      ],
      "metadata": {
        "id": "uJh62-H9j7ru"
      }
    },
    {
      "cell_type": "code",
      "source": [
        "def reverse(arr):\n",
        "  #implement logic here\n",
        "  pass"
      ],
      "metadata": {
        "id": "V1kxN4AokMzL"
      },
      "execution_count": null,
      "outputs": []
    },
    {
      "cell_type": "markdown",
      "source": [
        "**Question-8**: Create a 2D array of shape 5x3 to contain random integers between 1 and 100.\n"
      ],
      "metadata": {
        "id": "thP--rCskNSJ"
      }
    },
    {
      "cell_type": "code",
      "source": [
        "def random():\n",
        "  #implement logic here\n",
        "  pass"
      ],
      "metadata": {
        "id": "AvtQSo2clzc5"
      },
      "execution_count": null,
      "outputs": []
    },
    {
      "cell_type": "markdown",
      "source": [
        "**Question-9**: Convert the function maxx that works on two scalars, to work on two numpy arrays.\n",
        "\n",
        "maxx(1, 5) ->Get the maximum of two items\n",
        "\n",
        " Output : 5"
      ],
      "metadata": {
        "id": "Fznf-UFumRjH"
      }
    },
    {
      "cell_type": "code",
      "source": [
        "def maxx(a,b):\n",
        "  #implement logic here\n",
        "  pass"
      ],
      "metadata": {
        "id": "94EnnrzRmREI"
      },
      "execution_count": null,
      "outputs": []
    },
    {
      "cell_type": "markdown",
      "source": [
        "**Question-10**: From array a remove all items present in array b\n",
        "\n",
        "a = [1,2,3,4,5]\n",
        "\n",
        "b = [5,6,7,8,9]"
      ],
      "metadata": {
        "id": "EUgzYLw9mxdR"
      }
    },
    {
      "cell_type": "code",
      "source": [
        "def remove(a,b):\n",
        "  #implement logic here\n",
        "  pass"
      ],
      "metadata": {
        "id": "b59uPvDcmxFG"
      },
      "execution_count": null,
      "outputs": []
    }
  ]
}